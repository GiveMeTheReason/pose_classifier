{
 "cells": [
  {
   "cell_type": "code",
   "execution_count": 10,
   "metadata": {},
   "outputs": [],
   "source": [
    "import json\n",
    "import glob\n",
    "import os\n",
    "\n",
    "import numpy as np\n",
    "\n",
    "import cv2\n",
    "import k4a\n",
    "import mediapipe as mp\n",
    "import pyk4a\n",
    "\n",
    "import utils.utils_mediapipe as utils_mediapipe"
   ]
  },
  {
   "attachments": {},
   "cell_type": "markdown",
   "metadata": {},
   "source": [
    "#### Video to frames"
   ]
  },
  {
   "cell_type": "code",
   "execution_count": 11,
   "metadata": {},
   "outputs": [],
   "source": [
    "mp_pose = mp.solutions.pose\n",
    "mp_holistic = mp.solutions.holistic\n",
    "mp_drawing = mp.solutions.drawing_utils\n",
    "mp_drawing_styles = mp.solutions.drawing_styles\n",
    "\n",
    "mp_solver_settings = dict(\n",
    "    static_image_mode=False,\n",
    "    model_complexity=2,\n",
    "    min_detection_confidence=0.5,\n",
    "    min_tracking_confidence=0.5,\n",
    ")\n",
    "mp_solver = mp_holistic.Holistic(**mp_solver_settings)"
   ]
  },
  {
   "cell_type": "code",
   "execution_count": 39,
   "metadata": {},
   "outputs": [],
   "source": [
    "filenames = glob.glob(os.path.join('data', 'undistorted', 'G101', 'select', 'right', 'trial1', 'cam_center', 'color', '*.jpg'))\n",
    "# source_filename = 'color.avi'\n",
    "# save_folder = 'test_frames_data'\n",
    "# if not os.path.exists(save_folder):\n",
    "#     os.makedirs(save_folder, exist_ok=True)\n",
    "\n",
    "for source_filename in filenames:\n",
    "    frame = cv2.imread(source_filename)\n",
    "    landmarks = mp_solver.process(cv2.cvtColor(frame, cv2.COLOR_BGR2RGB))\n",
    "    if landmarks.pose_landmarks is not None:\n",
    "        frame = frame.copy()\n",
    "        mp_drawing.draw_landmarks(\n",
    "            frame,\n",
    "            landmarks.pose_landmarks,\n",
    "            mp_holistic.POSE_CONNECTIONS,\n",
    "            landmark_drawing_spec=mp_drawing_styles.get_default_pose_landmarks_style(),\n",
    "        )\n",
    "        mp_drawing.draw_landmarks(\n",
    "            frame,\n",
    "            landmarks.left_hand_landmarks,\n",
    "            mp_holistic.HAND_CONNECTIONS,\n",
    "            landmark_drawing_spec=mp_drawing_styles.get_default_pose_landmarks_style(),\n",
    "        )\n",
    "        mp_drawing.draw_landmarks(\n",
    "            frame,\n",
    "            landmarks.right_hand_landmarks,\n",
    "            mp_holistic.HAND_CONNECTIONS,\n",
    "            landmark_drawing_spec=mp_drawing_styles.get_default_pose_landmarks_style(),\n",
    "        )\n",
    "    # mp_drawing.plot_landmarks(\n",
    "    #     landmarks.pose_world_landmarks,\n",
    "    #     mp_pose.POSE_CONNECTIONS,\n",
    "    # )\n",
    "    cv2.imshow('MediaPipe Pose', frame)\n",
    "    if cv2.waitKey(5) & 0xFF == 27:\n",
    "        break\n",
    "\n",
    "cv2.destroyAllWindows()"
   ]
  },
  {
   "cell_type": "code",
   "execution_count": 37,
   "metadata": {},
   "outputs": [],
   "source": [
    "source_filename = 'color.avi'\n",
    "save_folder = 'test_frames_data'\n",
    "if not os.path.exists(save_folder):\n",
    "    os.makedirs(save_folder, exist_ok=True)\n",
    "\n",
    "cap = cv2.VideoCapture(source_filename)\n",
    "while cap.isOpened():\n",
    "    ret, frame = cap.read()\n",
    "    if not ret:\n",
    "        break\n",
    "    landmarks = mp_solver.process(frame)\n",
    "    if landmarks.pose_landmarks is not None:\n",
    "        frame = frame.copy()\n",
    "        mp_drawing.draw_landmarks(\n",
    "            frame,\n",
    "            landmarks.pose_landmarks,\n",
    "            mp_holistic.POSE_CONNECTIONS,\n",
    "            landmark_drawing_spec=mp_drawing_styles.get_default_pose_landmarks_style(),\n",
    "        )\n",
    "        mp_drawing.draw_landmarks(\n",
    "            frame,\n",
    "            landmarks.left_hand_landmarks,\n",
    "            mp_holistic.HAND_CONNECTIONS,\n",
    "            landmark_drawing_spec=mp_drawing_styles.get_default_pose_landmarks_style(),\n",
    "        )\n",
    "        mp_drawing.draw_landmarks(\n",
    "            frame,\n",
    "            landmarks.right_hand_landmarks,\n",
    "            mp_holistic.HAND_CONNECTIONS,\n",
    "            landmark_drawing_spec=mp_drawing_styles.get_default_pose_landmarks_style(),\n",
    "        )\n",
    "        # mp_drawing.plot_landmarks(\n",
    "        #     landmarks.pose_world_landmarks,\n",
    "        #     mp_pose.POSE_CONNECTIONS,\n",
    "        # )\n",
    "    cv2.imshow('MediaPipe Pose', frame)\n",
    "    if cv2.waitKey(5) & 0xFF == 27:\n",
    "        break\n",
    "\n",
    "cap.release()\n",
    "cv2.destroyAllWindows()"
   ]
  },
  {
   "attachments": {},
   "cell_type": "markdown",
   "metadata": {},
   "source": [
    "#### Video calibration params"
   ]
  },
  {
   "cell_type": "code",
   "execution_count": 7,
   "metadata": {},
   "outputs": [],
   "source": [
    "filename = \"output.mkv\"\n",
    "playback = pyk4a.PyK4APlayback(filename)"
   ]
  },
  {
   "cell_type": "code",
   "execution_count": 38,
   "metadata": {},
   "outputs": [],
   "source": [
    "playback.open()\n",
    "calib = playback.calibration_raw\n",
    "calib_json = json.dumps(calib)\n",
    "playback.close()"
   ]
  },
  {
   "cell_type": "code",
   "execution_count": 37,
   "metadata": {},
   "outputs": [],
   "source": [
    "playback.open()\n",
    "while True:\n",
    "    try:\n",
    "        frame = playback.get_next_capture()\n",
    "    except EOFError as err:\n",
    "        break\n",
    "playback.close()"
   ]
  },
  {
   "cell_type": "code",
   "execution_count": 50,
   "metadata": {},
   "outputs": [
    {
     "data": {
      "text/plain": [
       "(279859,)"
      ]
     },
     "execution_count": 50,
     "metadata": {},
     "output_type": "execute_result"
    }
   ],
   "source": [
    "frame.color.shape"
   ]
  },
  {
   "cell_type": "code",
   "execution_count": 47,
   "metadata": {},
   "outputs": [
    {
     "data": {
      "text/plain": [
       "(576, 640)"
      ]
     },
     "execution_count": 47,
     "metadata": {},
     "output_type": "execute_result"
    }
   ],
   "source": [
    "frame.depth.shape"
   ]
  },
  {
   "attachments": {},
   "cell_type": "markdown",
   "metadata": {},
   "source": [
    "#### Transformation Depth -> Color"
   ]
  },
  {
   "attachments": {},
   "cell_type": "markdown",
   "metadata": {},
   "source": [
    "#### MediaPipe"
   ]
  },
  {
   "cell_type": "code",
   "execution_count": 51,
   "metadata": {},
   "outputs": [],
   "source": [
    "mp_pose = mp.solutions.pose\n",
    "mp_drawing = mp.solutions.drawing_utils\n",
    "mp_drawing_styles = mp.solutions.drawing_styles\n",
    "\n",
    "mp_solver_settings = dict(\n",
    "    static_image_mode=True,\n",
    "    model_complexity=2,\n",
    "    min_detection_confidence=0.5,\n",
    "    min_tracking_confidence=0.5,\n",
    ")\n",
    "mp_solver = mp_pose.Pose(**mp_solver_settings)"
   ]
  },
  {
   "cell_type": "code",
   "execution_count": null,
   "metadata": {},
   "outputs": [],
   "source": []
  },
  {
   "cell_type": "code",
   "execution_count": 56,
   "metadata": {},
   "outputs": [],
   "source": [
    "mp_array = np.array([[[i * 1000 + j * 10 + k for k in range(3)] for j in range(33)] for i in range(120)])\n",
    "\n",
    "coco_shape = [*mp_array.shape]\n",
    "coco_shape[-2] = 18\n",
    "coco_array = np.zeros(coco_shape)"
   ]
  },
  {
   "cell_type": "code",
   "execution_count": 60,
   "metadata": {},
   "outputs": [],
   "source": [
    "mp_keys = [\n",
    "    0,\n",
    "    0,\n",
    "    12,\n",
    "    14,\n",
    "    16,\n",
    "    11,\n",
    "    13,\n",
    "    15,\n",
    "    24,\n",
    "    26,\n",
    "    28,\n",
    "    23,\n",
    "    25,\n",
    "    27,\n",
    "    5,\n",
    "    2,\n",
    "    8,\n",
    "    7,\n",
    "]"
   ]
  },
  {
   "cell_type": "code",
   "execution_count": 72,
   "metadata": {},
   "outputs": [],
   "source": [
    "coco_array[..., range(18), :] = mp_array[..., mp_keys, :]\n",
    "coco_array[..., 1, :] = np.mean(mp_array[..., [11, 12], :], axis=-2)"
   ]
  },
  {
   "cell_type": "code",
   "execution_count": 73,
   "metadata": {},
   "outputs": [
    {
     "data": {
      "text/plain": [
       "array([[  0.,   1.,   2.],\n",
       "       [115., 116., 117.],\n",
       "       [120., 121., 122.],\n",
       "       [140., 141., 142.],\n",
       "       [160., 161., 162.],\n",
       "       [110., 111., 112.],\n",
       "       [130., 131., 132.],\n",
       "       [150., 151., 152.],\n",
       "       [240., 241., 242.],\n",
       "       [260., 261., 262.],\n",
       "       [280., 281., 282.],\n",
       "       [230., 231., 232.],\n",
       "       [250., 251., 252.],\n",
       "       [270., 271., 272.],\n",
       "       [ 50.,  51.,  52.],\n",
       "       [ 20.,  21.,  22.],\n",
       "       [ 80.,  81.,  82.],\n",
       "       [ 70.,  71.,  72.]])"
      ]
     },
     "execution_count": 73,
     "metadata": {},
     "output_type": "execute_result"
    }
   ],
   "source": [
    "coco_array[0]"
   ]
  }
 ],
 "metadata": {
  "kernelspec": {
   "display_name": ".venv",
   "language": "python",
   "name": "python3"
  },
  "language_info": {
   "codemirror_mode": {
    "name": "ipython",
    "version": 3
   },
   "file_extension": ".py",
   "mimetype": "text/x-python",
   "name": "python",
   "nbconvert_exporter": "python",
   "pygments_lexer": "ipython3",
   "version": "3.10.10"
  },
  "orig_nbformat": 4
 },
 "nbformat": 4,
 "nbformat_minor": 2
}
