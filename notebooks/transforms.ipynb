{
 "cells": [
  {
   "cell_type": "code",
   "execution_count": 1,
   "metadata": {},
   "outputs": [],
   "source": [
    "import os\n",
    "\n",
    "import numpy as np\n",
    "import torchvision.transforms as T\n",
    "\n",
    "import model.transforms as transforms\n",
    "\n",
    "import utils.utils_mediapipe as utils_mediapipe\n",
    "import utils.utils_plotly as utils_plotly\n",
    "from config import DATA_CONFIG, TRAIN_CONFIG, VISUALIZER_CONFIG"
   ]
  },
  {
   "cell_type": "code",
   "execution_count": 2,
   "metadata": {},
   "outputs": [],
   "source": [
    "def get_mp_graph(points: np.ndarray) -> np.ndarray:\n",
    "    graph = np.array([\n",
    "        8, 6, 5, 4, 0, 1, 2, 3, 7, None,\n",
    "        10, 9, None,\n",
    "        12, 11, 23, 24, 12, None,\n",
    "        12, 14, 16, None,\n",
    "        11, 13, 15, None,\n",
    "        22, 16, 18, 20, 16, None,\n",
    "        21, 15, 17, 19, 15, None,\n",
    "        24, 26, 28, 30, 32, 28, None,\n",
    "        23, 25, 27, 29, 31, 27, None,\n",
    "    ])\n",
    "\n",
    "    graphed_points = np.zeros((len(graph), 3))\n",
    "    for i, node in enumerate(graph):\n",
    "        if node is None:\n",
    "            graphed_points[i] = np.nan\n",
    "        else:\n",
    "            graphed_points[i] = points[node]\n",
    "    return graphed_points\n",
    "\n",
    "\n",
    "def get_mp_graph_reduced(points: np.ndarray) -> np.ndarray:\n",
    "    graph = np.array([\n",
    "        12-11, 11-11, 23-11, 24-11, 12-11, None,\n",
    "        12-11, 14-11, 16-11, None,\n",
    "        11-11, 13-11, 15-11, None,\n",
    "        22-11, 16-11, 18-11, 20-11, 16-11, None,\n",
    "        21-11, 15-11, 17-11, 19-11, 15-11, None,\n",
    "    ])\n",
    "\n",
    "    graphed_points = np.zeros((len(graph), 3))\n",
    "    for i, node in enumerate(graph):\n",
    "        if node is None:\n",
    "            graphed_points[i] = np.nan\n",
    "        else:\n",
    "            graphed_points[i] = points[node]\n",
    "    return graphed_points"
   ]
  },
  {
   "cell_type": "code",
   "execution_count": 11,
   "metadata": {},
   "outputs": [],
   "source": [
    "def get_skeleton_data(points: np.ndarray):\n",
    "    mp_scatter = utils_plotly.get_scatter_3d(\n",
    "        points,\n",
    "        # points_colors,\n",
    "        size=3,\n",
    "    )\n",
    "\n",
    "    mp_graph = utils_plotly.get_scatter_3d(\n",
    "        get_mp_graph(points) if points.shape[0] == 33 else get_mp_graph_reduced(points),\n",
    "        # points_colors,\n",
    "        mode='lines',\n",
    "        line=dict(color='darkblue', width=2),\n",
    "    )\n",
    "\n",
    "    return [mp_scatter, mp_graph]\n",
    "\n",
    "\n",
    "def vis_data(data, file_path = ''):\n",
    "    min_x, min_y, min_z = 0, 0, 0\n",
    "    max_x, max_y, max_z = 0, 0, 0\n",
    "    for item in data:\n",
    "        min_x = min(min_x, item.x.min())\n",
    "        min_y = min(min_y, item.y.min())\n",
    "        min_z = min(min_z, item.z.min())\n",
    "        max_x = max(max_x, item.x.max())\n",
    "        max_y = max(max_y, item.y.max())\n",
    "        max_z = max(max_z, item.z.max())\n",
    "    mean_x = (min_x + max_x) / 2\n",
    "    mean_y = (min_y + max_y) / 2\n",
    "    mean_z = (min_z + max_z) / 2\n",
    "    max_range = max(max_x - min_x, max_y - min_y, max_z - min_z)\n",
    "    max_range /= 2\n",
    "\n",
    "    fig = utils_plotly.create_figure_3d(len(data), **dict(data=data))\n",
    "    fig.update_layout(\n",
    "        title=file_path,\n",
    "        scene_camera=VISUALIZER_CONFIG.scene_camera,\n",
    "        scene=dict(\n",
    "            xaxis=dict(range=[mean_x - max_range, mean_x + max_range]),\n",
    "            yaxis=dict(range=[mean_y - max_range, mean_y + max_range]),\n",
    "            zaxis=dict(range=[mean_z - max_range, mean_z + max_range]),\n",
    "            aspectratio=dict(x=1, y=1, z=1),\n",
    "        ),\n",
    "    )\n",
    "    fig.show()"
   ]
  },
  {
   "cell_type": "code",
   "execution_count": 12,
   "metadata": {},
   "outputs": [],
   "source": [
    "device = 'cpu'\n",
    "\n",
    "samples_folder = DATA_CONFIG.mediapipe.points_pose_world_windowed_filtered_labeled\n",
    "\n",
    "label_map = TRAIN_CONFIG.gesture_set.label_map\n",
    "inv_label_map = TRAIN_CONFIG.gesture_set.inv_label_map"
   ]
  },
  {
   "cell_type": "code",
   "execution_count": 13,
   "metadata": {},
   "outputs": [],
   "source": [
    "to_keep = TRAIN_CONFIG.transforms_params.to_keep\n",
    "shape_limit = TRAIN_CONFIG.transforms_params.shape_limit\n",
    "\n",
    "train_transforms = transforms.TrainTransforms(\n",
    "    to_keep=to_keep,\n",
    "    shape_limit=shape_limit,\n",
    "    device=device,\n",
    ")\n",
    "test_transforms = transforms.TestTransforms(\n",
    "    to_keep=to_keep,\n",
    "    shape_limit=shape_limit,\n",
    "    device=device,\n",
    ")"
   ]
  },
  {
   "cell_type": "code",
   "execution_count": 14,
   "metadata": {},
   "outputs": [],
   "source": [
    "subject = 101\n",
    "gesture = 'select'\n",
    "hand = 'left'\n",
    "trial = 1\n",
    "frame = 0\n",
    "\n",
    "file_path = os.path.join(\n",
    "    samples_folder,\n",
    "    f'G{subject}_{gesture}_{hand}_trial{trial}.npy'\n",
    ")\n",
    "\n",
    "data = utils_mediapipe.get_mediapipe_points(file_path)"
   ]
  },
  {
   "attachments": {},
   "cell_type": "markdown",
   "metadata": {},
   "source": [
    "Init data"
   ]
  },
  {
   "cell_type": "code",
   "execution_count": 15,
   "metadata": {},
   "outputs": [
    {
     "data": {
      "application/vnd.plotly.v1+json": {
       "config": {
        "plotlyServerURL": "https://plot.ly"
       },
       "data": [
        {
         "marker": {
          "size": 3
         },
         "mode": "markers",
         "type": "scatter3d",
         "x": [
          18.413165672688688,
          39.89558319962615,
          53.2079620908461,
          67.31454382278932,
          -0.13093871347345962,
          -12.223393831782303,
          -23.907696138840627,
          78.8967582417079,
          -48.081097065255044,
          39.05769798629504,
          -8.85105302102566,
          173.43517837197837,
          -155.94255037672295,
          211.88563488661669,
          -195.8421638770444,
          199.1505136126854,
          -179.5477882000898,
          205.05873734481003,
          -184.57491282610752,
          172.8888055611737,
          -162.28939134163767,
          161.92783636928283,
          -148.94950700958813,
          101.2166968349696,
          -90.81086326608158,
          96.01895305012688,
          -98.76469629630685,
          0,
          0,
          0,
          0,
          0,
          0
         ],
         "y": [
          -54.73236386291468,
          -87.81337223600215,
          -86.5586629850711,
          -85.44894385170542,
          -91.14617003829149,
          -91.97117490341563,
          -91.6324524699908,
          -70.30775928603354,
          -74.72359497481187,
          -20.337987524018764,
          -22.53210290872034,
          149.50819980640856,
          152.00476354350738,
          438.7632110370657,
          443.52186527611804,
          679.2647138810433,
          680.9559472494744,
          745.6440500614017,
          736.8978582783863,
          750.9136874232479,
          742.9122247856187,
          732.9532539206967,
          727.1301188815556,
          627.2350540053608,
          622.4123241985291,
          1046.783240148996,
          1043.9997797611397,
          0,
          0,
          0,
          0,
          0,
          0
         ],
         "z": [
          1774,
          1807,
          1810,
          1818,
          1796,
          1804,
          1806,
          1846,
          1826,
          1798,
          1801,
          1866,
          1864,
          1890,
          1880,
          1829,
          1804,
          1800,
          1773,
          1795,
          1777,
          1809,
          1786,
          1801,
          1804,
          1862,
          1878,
          0,
          0,
          0,
          0,
          0,
          0
         ]
        },
        {
         "line": {
          "color": "darkblue",
          "width": 2
         },
         "marker": {
          "size": 1
         },
         "mode": "lines",
         "type": "scatter3d",
         "x": [
          -48.081097065255044,
          -23.907696138840627,
          -12.223393831782303,
          -0.13093871347345962,
          18.413165672688688,
          39.89558319962615,
          53.2079620908461,
          67.31454382278932,
          78.8967582417079,
          null,
          -8.85105302102566,
          39.05769798629504,
          null,
          -155.94255037672295,
          173.43517837197837,
          101.2166968349696,
          -90.81086326608158,
          -155.94255037672295,
          null,
          -155.94255037672295,
          -195.8421638770444,
          -179.5477882000898,
          null,
          173.43517837197837,
          211.88563488661669,
          199.1505136126854,
          null,
          -148.94950700958813,
          -179.5477882000898,
          -184.57491282610752,
          -162.28939134163767,
          -179.5477882000898,
          null,
          161.92783636928283,
          199.1505136126854,
          205.05873734481003,
          172.8888055611737,
          199.1505136126854,
          null,
          -90.81086326608158,
          -98.76469629630685,
          0,
          0,
          0,
          0,
          null,
          101.2166968349696,
          96.01895305012688,
          0,
          0,
          0,
          0,
          null
         ],
         "y": [
          -74.72359497481187,
          -91.6324524699908,
          -91.97117490341563,
          -91.14617003829149,
          -54.73236386291468,
          -87.81337223600215,
          -86.5586629850711,
          -85.44894385170542,
          -70.30775928603354,
          null,
          -22.53210290872034,
          -20.337987524018764,
          null,
          152.00476354350738,
          149.50819980640856,
          627.2350540053608,
          622.4123241985291,
          152.00476354350738,
          null,
          152.00476354350738,
          443.52186527611804,
          680.9559472494744,
          null,
          149.50819980640856,
          438.7632110370657,
          679.2647138810433,
          null,
          727.1301188815556,
          680.9559472494744,
          736.8978582783863,
          742.9122247856187,
          680.9559472494744,
          null,
          732.9532539206967,
          679.2647138810433,
          745.6440500614017,
          750.9136874232479,
          679.2647138810433,
          null,
          622.4123241985291,
          1043.9997797611397,
          0,
          0,
          0,
          0,
          null,
          627.2350540053608,
          1046.783240148996,
          0,
          0,
          0,
          0,
          null
         ],
         "z": [
          1826,
          1806,
          1804,
          1796,
          1774,
          1807,
          1810,
          1818,
          1846,
          null,
          1801,
          1798,
          null,
          1864,
          1866,
          1801,
          1804,
          1864,
          null,
          1864,
          1880,
          1804,
          null,
          1866,
          1890,
          1829,
          null,
          1786,
          1804,
          1773,
          1777,
          1804,
          null,
          1809,
          1829,
          1800,
          1795,
          1829,
          null,
          1804,
          1878,
          0,
          0,
          0,
          0,
          null,
          1801,
          1862,
          0,
          0,
          0,
          0,
          null
         ]
        }
       ],
       "layout": {
        "scene": {
         "aspectratio": {
          "x": 1,
          "y": 1,
          "z": 1
         },
         "camera": {
          "center": {
           "x": -0.8,
           "y": 0.7,
           "z": 1
          },
          "eye": {
           "x": 0.8,
           "y": -0.3,
           "z": -0.5
          },
          "up": {
           "x": 0,
           "y": -1,
           "z": 0
          }
         },
         "xaxis": {
          "range": [
           -936.9782644952138,
           953.0217355047862
          ],
          "visible": true
         },
         "yaxis": {
          "range": [
           -467.5939673772099,
           1422.40603262279
          ],
          "visible": true
         },
         "zaxis": {
          "range": [
           0,
           1890
          ],
          "visible": true
         }
        },
        "template": {
         "data": {
          "bar": [
           {
            "error_x": {
             "color": "#2a3f5f"
            },
            "error_y": {
             "color": "#2a3f5f"
            },
            "marker": {
             "line": {
              "color": "#E5ECF6",
              "width": 0.5
             },
             "pattern": {
              "fillmode": "overlay",
              "size": 10,
              "solidity": 0.2
             }
            },
            "type": "bar"
           }
          ],
          "barpolar": [
           {
            "marker": {
             "line": {
              "color": "#E5ECF6",
              "width": 0.5
             },
             "pattern": {
              "fillmode": "overlay",
              "size": 10,
              "solidity": 0.2
             }
            },
            "type": "barpolar"
           }
          ],
          "carpet": [
           {
            "aaxis": {
             "endlinecolor": "#2a3f5f",
             "gridcolor": "white",
             "linecolor": "white",
             "minorgridcolor": "white",
             "startlinecolor": "#2a3f5f"
            },
            "baxis": {
             "endlinecolor": "#2a3f5f",
             "gridcolor": "white",
             "linecolor": "white",
             "minorgridcolor": "white",
             "startlinecolor": "#2a3f5f"
            },
            "type": "carpet"
           }
          ],
          "choropleth": [
           {
            "colorbar": {
             "outlinewidth": 0,
             "ticks": ""
            },
            "type": "choropleth"
           }
          ],
          "contour": [
           {
            "colorbar": {
             "outlinewidth": 0,
             "ticks": ""
            },
            "colorscale": [
             [
              0,
              "#0d0887"
             ],
             [
              0.1111111111111111,
              "#46039f"
             ],
             [
              0.2222222222222222,
              "#7201a8"
             ],
             [
              0.3333333333333333,
              "#9c179e"
             ],
             [
              0.4444444444444444,
              "#bd3786"
             ],
             [
              0.5555555555555556,
              "#d8576b"
             ],
             [
              0.6666666666666666,
              "#ed7953"
             ],
             [
              0.7777777777777778,
              "#fb9f3a"
             ],
             [
              0.8888888888888888,
              "#fdca26"
             ],
             [
              1,
              "#f0f921"
             ]
            ],
            "type": "contour"
           }
          ],
          "contourcarpet": [
           {
            "colorbar": {
             "outlinewidth": 0,
             "ticks": ""
            },
            "type": "contourcarpet"
           }
          ],
          "heatmap": [
           {
            "colorbar": {
             "outlinewidth": 0,
             "ticks": ""
            },
            "colorscale": [
             [
              0,
              "#0d0887"
             ],
             [
              0.1111111111111111,
              "#46039f"
             ],
             [
              0.2222222222222222,
              "#7201a8"
             ],
             [
              0.3333333333333333,
              "#9c179e"
             ],
             [
              0.4444444444444444,
              "#bd3786"
             ],
             [
              0.5555555555555556,
              "#d8576b"
             ],
             [
              0.6666666666666666,
              "#ed7953"
             ],
             [
              0.7777777777777778,
              "#fb9f3a"
             ],
             [
              0.8888888888888888,
              "#fdca26"
             ],
             [
              1,
              "#f0f921"
             ]
            ],
            "type": "heatmap"
           }
          ],
          "heatmapgl": [
           {
            "colorbar": {
             "outlinewidth": 0,
             "ticks": ""
            },
            "colorscale": [
             [
              0,
              "#0d0887"
             ],
             [
              0.1111111111111111,
              "#46039f"
             ],
             [
              0.2222222222222222,
              "#7201a8"
             ],
             [
              0.3333333333333333,
              "#9c179e"
             ],
             [
              0.4444444444444444,
              "#bd3786"
             ],
             [
              0.5555555555555556,
              "#d8576b"
             ],
             [
              0.6666666666666666,
              "#ed7953"
             ],
             [
              0.7777777777777778,
              "#fb9f3a"
             ],
             [
              0.8888888888888888,
              "#fdca26"
             ],
             [
              1,
              "#f0f921"
             ]
            ],
            "type": "heatmapgl"
           }
          ],
          "histogram": [
           {
            "marker": {
             "pattern": {
              "fillmode": "overlay",
              "size": 10,
              "solidity": 0.2
             }
            },
            "type": "histogram"
           }
          ],
          "histogram2d": [
           {
            "colorbar": {
             "outlinewidth": 0,
             "ticks": ""
            },
            "colorscale": [
             [
              0,
              "#0d0887"
             ],
             [
              0.1111111111111111,
              "#46039f"
             ],
             [
              0.2222222222222222,
              "#7201a8"
             ],
             [
              0.3333333333333333,
              "#9c179e"
             ],
             [
              0.4444444444444444,
              "#bd3786"
             ],
             [
              0.5555555555555556,
              "#d8576b"
             ],
             [
              0.6666666666666666,
              "#ed7953"
             ],
             [
              0.7777777777777778,
              "#fb9f3a"
             ],
             [
              0.8888888888888888,
              "#fdca26"
             ],
             [
              1,
              "#f0f921"
             ]
            ],
            "type": "histogram2d"
           }
          ],
          "histogram2dcontour": [
           {
            "colorbar": {
             "outlinewidth": 0,
             "ticks": ""
            },
            "colorscale": [
             [
              0,
              "#0d0887"
             ],
             [
              0.1111111111111111,
              "#46039f"
             ],
             [
              0.2222222222222222,
              "#7201a8"
             ],
             [
              0.3333333333333333,
              "#9c179e"
             ],
             [
              0.4444444444444444,
              "#bd3786"
             ],
             [
              0.5555555555555556,
              "#d8576b"
             ],
             [
              0.6666666666666666,
              "#ed7953"
             ],
             [
              0.7777777777777778,
              "#fb9f3a"
             ],
             [
              0.8888888888888888,
              "#fdca26"
             ],
             [
              1,
              "#f0f921"
             ]
            ],
            "type": "histogram2dcontour"
           }
          ],
          "mesh3d": [
           {
            "colorbar": {
             "outlinewidth": 0,
             "ticks": ""
            },
            "type": "mesh3d"
           }
          ],
          "parcoords": [
           {
            "line": {
             "colorbar": {
              "outlinewidth": 0,
              "ticks": ""
             }
            },
            "type": "parcoords"
           }
          ],
          "pie": [
           {
            "automargin": true,
            "type": "pie"
           }
          ],
          "scatter": [
           {
            "fillpattern": {
             "fillmode": "overlay",
             "size": 10,
             "solidity": 0.2
            },
            "type": "scatter"
           }
          ],
          "scatter3d": [
           {
            "line": {
             "colorbar": {
              "outlinewidth": 0,
              "ticks": ""
             }
            },
            "marker": {
             "colorbar": {
              "outlinewidth": 0,
              "ticks": ""
             }
            },
            "type": "scatter3d"
           }
          ],
          "scattercarpet": [
           {
            "marker": {
             "colorbar": {
              "outlinewidth": 0,
              "ticks": ""
             }
            },
            "type": "scattercarpet"
           }
          ],
          "scattergeo": [
           {
            "marker": {
             "colorbar": {
              "outlinewidth": 0,
              "ticks": ""
             }
            },
            "type": "scattergeo"
           }
          ],
          "scattergl": [
           {
            "marker": {
             "colorbar": {
              "outlinewidth": 0,
              "ticks": ""
             }
            },
            "type": "scattergl"
           }
          ],
          "scattermapbox": [
           {
            "marker": {
             "colorbar": {
              "outlinewidth": 0,
              "ticks": ""
             }
            },
            "type": "scattermapbox"
           }
          ],
          "scatterpolar": [
           {
            "marker": {
             "colorbar": {
              "outlinewidth": 0,
              "ticks": ""
             }
            },
            "type": "scatterpolar"
           }
          ],
          "scatterpolargl": [
           {
            "marker": {
             "colorbar": {
              "outlinewidth": 0,
              "ticks": ""
             }
            },
            "type": "scatterpolargl"
           }
          ],
          "scatterternary": [
           {
            "marker": {
             "colorbar": {
              "outlinewidth": 0,
              "ticks": ""
             }
            },
            "type": "scatterternary"
           }
          ],
          "surface": [
           {
            "colorbar": {
             "outlinewidth": 0,
             "ticks": ""
            },
            "colorscale": [
             [
              0,
              "#0d0887"
             ],
             [
              0.1111111111111111,
              "#46039f"
             ],
             [
              0.2222222222222222,
              "#7201a8"
             ],
             [
              0.3333333333333333,
              "#9c179e"
             ],
             [
              0.4444444444444444,
              "#bd3786"
             ],
             [
              0.5555555555555556,
              "#d8576b"
             ],
             [
              0.6666666666666666,
              "#ed7953"
             ],
             [
              0.7777777777777778,
              "#fb9f3a"
             ],
             [
              0.8888888888888888,
              "#fdca26"
             ],
             [
              1,
              "#f0f921"
             ]
            ],
            "type": "surface"
           }
          ],
          "table": [
           {
            "cells": {
             "fill": {
              "color": "#EBF0F8"
             },
             "line": {
              "color": "white"
             }
            },
            "header": {
             "fill": {
              "color": "#C8D4E3"
             },
             "line": {
              "color": "white"
             }
            },
            "type": "table"
           }
          ]
         },
         "layout": {
          "annotationdefaults": {
           "arrowcolor": "#2a3f5f",
           "arrowhead": 0,
           "arrowwidth": 1
          },
          "autotypenumbers": "strict",
          "coloraxis": {
           "colorbar": {
            "outlinewidth": 0,
            "ticks": ""
           }
          },
          "colorscale": {
           "diverging": [
            [
             0,
             "#8e0152"
            ],
            [
             0.1,
             "#c51b7d"
            ],
            [
             0.2,
             "#de77ae"
            ],
            [
             0.3,
             "#f1b6da"
            ],
            [
             0.4,
             "#fde0ef"
            ],
            [
             0.5,
             "#f7f7f7"
            ],
            [
             0.6,
             "#e6f5d0"
            ],
            [
             0.7,
             "#b8e186"
            ],
            [
             0.8,
             "#7fbc41"
            ],
            [
             0.9,
             "#4d9221"
            ],
            [
             1,
             "#276419"
            ]
           ],
           "sequential": [
            [
             0,
             "#0d0887"
            ],
            [
             0.1111111111111111,
             "#46039f"
            ],
            [
             0.2222222222222222,
             "#7201a8"
            ],
            [
             0.3333333333333333,
             "#9c179e"
            ],
            [
             0.4444444444444444,
             "#bd3786"
            ],
            [
             0.5555555555555556,
             "#d8576b"
            ],
            [
             0.6666666666666666,
             "#ed7953"
            ],
            [
             0.7777777777777778,
             "#fb9f3a"
            ],
            [
             0.8888888888888888,
             "#fdca26"
            ],
            [
             1,
             "#f0f921"
            ]
           ],
           "sequentialminus": [
            [
             0,
             "#0d0887"
            ],
            [
             0.1111111111111111,
             "#46039f"
            ],
            [
             0.2222222222222222,
             "#7201a8"
            ],
            [
             0.3333333333333333,
             "#9c179e"
            ],
            [
             0.4444444444444444,
             "#bd3786"
            ],
            [
             0.5555555555555556,
             "#d8576b"
            ],
            [
             0.6666666666666666,
             "#ed7953"
            ],
            [
             0.7777777777777778,
             "#fb9f3a"
            ],
            [
             0.8888888888888888,
             "#fdca26"
            ],
            [
             1,
             "#f0f921"
            ]
           ]
          },
          "colorway": [
           "#636efa",
           "#EF553B",
           "#00cc96",
           "#ab63fa",
           "#FFA15A",
           "#19d3f3",
           "#FF6692",
           "#B6E880",
           "#FF97FF",
           "#FECB52"
          ],
          "font": {
           "color": "#2a3f5f"
          },
          "geo": {
           "bgcolor": "white",
           "lakecolor": "white",
           "landcolor": "#E5ECF6",
           "showlakes": true,
           "showland": true,
           "subunitcolor": "white"
          },
          "hoverlabel": {
           "align": "left"
          },
          "hovermode": "closest",
          "mapbox": {
           "style": "light"
          },
          "paper_bgcolor": "white",
          "plot_bgcolor": "#E5ECF6",
          "polar": {
           "angularaxis": {
            "gridcolor": "white",
            "linecolor": "white",
            "ticks": ""
           },
           "bgcolor": "#E5ECF6",
           "radialaxis": {
            "gridcolor": "white",
            "linecolor": "white",
            "ticks": ""
           }
          },
          "scene": {
           "xaxis": {
            "backgroundcolor": "#E5ECF6",
            "gridcolor": "white",
            "gridwidth": 2,
            "linecolor": "white",
            "showbackground": true,
            "ticks": "",
            "zerolinecolor": "white"
           },
           "yaxis": {
            "backgroundcolor": "#E5ECF6",
            "gridcolor": "white",
            "gridwidth": 2,
            "linecolor": "white",
            "showbackground": true,
            "ticks": "",
            "zerolinecolor": "white"
           },
           "zaxis": {
            "backgroundcolor": "#E5ECF6",
            "gridcolor": "white",
            "gridwidth": 2,
            "linecolor": "white",
            "showbackground": true,
            "ticks": "",
            "zerolinecolor": "white"
           }
          },
          "shapedefaults": {
           "line": {
            "color": "#2a3f5f"
           }
          },
          "ternary": {
           "aaxis": {
            "gridcolor": "white",
            "linecolor": "white",
            "ticks": ""
           },
           "baxis": {
            "gridcolor": "white",
            "linecolor": "white",
            "ticks": ""
           },
           "bgcolor": "#E5ECF6",
           "caxis": {
            "gridcolor": "white",
            "linecolor": "white",
            "ticks": ""
           }
          },
          "title": {
           "x": 0.05
          },
          "xaxis": {
           "automargin": true,
           "gridcolor": "white",
           "linecolor": "white",
           "ticks": "",
           "title": {
            "standoff": 15
           },
           "zerolinecolor": "white",
           "zerolinewidth": 2
          },
          "yaxis": {
           "automargin": true,
           "gridcolor": "white",
           "linecolor": "white",
           "ticks": "",
           "title": {
            "standoff": 15
           },
           "zerolinecolor": "white",
           "zerolinewidth": 2
          }
         }
        },
        "title": {
         "text": "mediapipe_data/pose_world_windowed_filtered_labeled/G101_select_left_trial1.npy"
        }
       }
      }
     },
     "metadata": {},
     "output_type": "display_data"
    }
   ],
   "source": [
    "transform = T.Compose([\n",
    "    \n",
    "])\n",
    "\n",
    "points = np.copy(data[frame, :-1])\n",
    "points = transform(points[None, ...]).reshape(-1, 3)\n",
    "\n",
    "scatters = get_skeleton_data(points)\n",
    "vis_data(scatters, file_path)"
   ]
  },
  {
   "attachments": {},
   "cell_type": "markdown",
   "metadata": {},
   "source": [
    "Transformed"
   ]
  },
  {
   "cell_type": "code",
   "execution_count": 16,
   "metadata": {},
   "outputs": [
    {
     "data": {
      "application/vnd.plotly.v1+json": {
       "config": {
        "plotlyServerURL": "https://plot.ly"
       },
       "data": [
        {
         "marker": {
          "size": 3
         },
         "mode": "markers",
         "type": "scatter3d",
         "x": [
          1.4909887313842773,
          -0.4250998795032501,
          1.726122498512268,
          -0.5291997790336609,
          1.6655076742172241,
          -0.7501274943351746,
          1.5579750537872314,
          -0.5533179640769958,
          1.3824095726013184,
          -0.20573502779006958,
          1.253641963005066,
          -0.28352391719818115,
          1.0094001293182373,
          -0.0019953742157667875
         ],
         "y": [
          -2.3712191581726074,
          -1.9817681312561035,
          -0.7444724440574646,
          -0.6922469735145569,
          0.3527640998363495,
          0.2594940960407257,
          0.6071207523345947,
          0.600396990776062,
          0.4142964780330658,
          0.7307751774787903,
          0.4521961212158203,
          0.5306752324104309,
          0.0005358997732400894,
          -0.06784705072641373
         ],
         "z": [
          1.6560957431793213,
          1.4913768768310547,
          2.2180020809173584,
          1.895930528640747,
          0.5806366801261902,
          -0.00787519384175539,
          -0.1111983060836792,
          -0.7584776878356934,
          -0.2730470597743988,
          -0.6232086420059204,
          0.17248670756816864,
          -0.3445405066013336,
          -0.01864735409617424,
          0.031521912664175034
         ]
        },
        {
         "line": {
          "color": "darkblue",
          "width": 2
         },
         "marker": {
          "size": 1
         },
         "mode": "lines",
         "type": "scatter3d",
         "x": [
          -0.4250998795032501,
          1.4909887313842773,
          1.0094001293182373,
          -0.0019953742157667875,
          -0.4250998795032501,
          null,
          -0.4250998795032501,
          -0.5291997790336609,
          -0.7501274943351746,
          null,
          1.4909887313842773,
          1.726122498512268,
          1.6655076742172241,
          null,
          -0.28352391719818115,
          -0.7501274943351746,
          -0.5533179640769958,
          -0.20573502779006958,
          -0.7501274943351746,
          null,
          1.253641963005066,
          1.6655076742172241,
          1.5579750537872314,
          1.3824095726013184,
          1.6655076742172241,
          null
         ],
         "y": [
          -1.9817681312561035,
          -2.3712191581726074,
          0.0005358997732400894,
          -0.06784705072641373,
          -1.9817681312561035,
          null,
          -1.9817681312561035,
          -0.6922469735145569,
          0.2594940960407257,
          null,
          -2.3712191581726074,
          -0.7444724440574646,
          0.3527640998363495,
          null,
          0.5306752324104309,
          0.2594940960407257,
          0.600396990776062,
          0.7307751774787903,
          0.2594940960407257,
          null,
          0.4521961212158203,
          0.3527640998363495,
          0.6071207523345947,
          0.4142964780330658,
          0.3527640998363495,
          null
         ],
         "z": [
          1.4913768768310547,
          1.6560957431793213,
          -0.01864735409617424,
          0.031521912664175034,
          1.4913768768310547,
          null,
          1.4913768768310547,
          1.895930528640747,
          -0.00787519384175539,
          null,
          1.6560957431793213,
          2.2180020809173584,
          0.5806366801261902,
          null,
          -0.3445405066013336,
          -0.00787519384175539,
          -0.7584776878356934,
          -0.6232086420059204,
          -0.00787519384175539,
          null,
          0.17248670756816864,
          0.5806366801261902,
          -0.1111983060836792,
          -0.2730470597743988,
          0.5806366801261902,
          null
         ]
        }
       ],
       "layout": {
        "scene": {
         "aspectratio": {
          "x": 1,
          "y": 1,
          "z": 1
         },
         "camera": {
          "center": {
           "x": -0.8,
           "y": 0.7,
           "z": 1
          },
          "eye": {
           "x": 0.8,
           "y": -0.3,
           "z": -0.5
          },
          "up": {
           "x": 0,
           "y": -1,
           "z": 0
          }
         },
         "xaxis": {
          "range": [
           -1.0629996359348297,
           2.038994640111923
          ],
          "visible": true
         },
         "yaxis": {
          "range": [
           -2.3712191581726074,
           0.7307751178741455
          ],
          "visible": true
         },
         "zaxis": {
          "range": [
           -0.821234941482544,
           2.280759334564209
          ],
          "visible": true
         }
        },
        "template": {
         "data": {
          "bar": [
           {
            "error_x": {
             "color": "#2a3f5f"
            },
            "error_y": {
             "color": "#2a3f5f"
            },
            "marker": {
             "line": {
              "color": "#E5ECF6",
              "width": 0.5
             },
             "pattern": {
              "fillmode": "overlay",
              "size": 10,
              "solidity": 0.2
             }
            },
            "type": "bar"
           }
          ],
          "barpolar": [
           {
            "marker": {
             "line": {
              "color": "#E5ECF6",
              "width": 0.5
             },
             "pattern": {
              "fillmode": "overlay",
              "size": 10,
              "solidity": 0.2
             }
            },
            "type": "barpolar"
           }
          ],
          "carpet": [
           {
            "aaxis": {
             "endlinecolor": "#2a3f5f",
             "gridcolor": "white",
             "linecolor": "white",
             "minorgridcolor": "white",
             "startlinecolor": "#2a3f5f"
            },
            "baxis": {
             "endlinecolor": "#2a3f5f",
             "gridcolor": "white",
             "linecolor": "white",
             "minorgridcolor": "white",
             "startlinecolor": "#2a3f5f"
            },
            "type": "carpet"
           }
          ],
          "choropleth": [
           {
            "colorbar": {
             "outlinewidth": 0,
             "ticks": ""
            },
            "type": "choropleth"
           }
          ],
          "contour": [
           {
            "colorbar": {
             "outlinewidth": 0,
             "ticks": ""
            },
            "colorscale": [
             [
              0,
              "#0d0887"
             ],
             [
              0.1111111111111111,
              "#46039f"
             ],
             [
              0.2222222222222222,
              "#7201a8"
             ],
             [
              0.3333333333333333,
              "#9c179e"
             ],
             [
              0.4444444444444444,
              "#bd3786"
             ],
             [
              0.5555555555555556,
              "#d8576b"
             ],
             [
              0.6666666666666666,
              "#ed7953"
             ],
             [
              0.7777777777777778,
              "#fb9f3a"
             ],
             [
              0.8888888888888888,
              "#fdca26"
             ],
             [
              1,
              "#f0f921"
             ]
            ],
            "type": "contour"
           }
          ],
          "contourcarpet": [
           {
            "colorbar": {
             "outlinewidth": 0,
             "ticks": ""
            },
            "type": "contourcarpet"
           }
          ],
          "heatmap": [
           {
            "colorbar": {
             "outlinewidth": 0,
             "ticks": ""
            },
            "colorscale": [
             [
              0,
              "#0d0887"
             ],
             [
              0.1111111111111111,
              "#46039f"
             ],
             [
              0.2222222222222222,
              "#7201a8"
             ],
             [
              0.3333333333333333,
              "#9c179e"
             ],
             [
              0.4444444444444444,
              "#bd3786"
             ],
             [
              0.5555555555555556,
              "#d8576b"
             ],
             [
              0.6666666666666666,
              "#ed7953"
             ],
             [
              0.7777777777777778,
              "#fb9f3a"
             ],
             [
              0.8888888888888888,
              "#fdca26"
             ],
             [
              1,
              "#f0f921"
             ]
            ],
            "type": "heatmap"
           }
          ],
          "heatmapgl": [
           {
            "colorbar": {
             "outlinewidth": 0,
             "ticks": ""
            },
            "colorscale": [
             [
              0,
              "#0d0887"
             ],
             [
              0.1111111111111111,
              "#46039f"
             ],
             [
              0.2222222222222222,
              "#7201a8"
             ],
             [
              0.3333333333333333,
              "#9c179e"
             ],
             [
              0.4444444444444444,
              "#bd3786"
             ],
             [
              0.5555555555555556,
              "#d8576b"
             ],
             [
              0.6666666666666666,
              "#ed7953"
             ],
             [
              0.7777777777777778,
              "#fb9f3a"
             ],
             [
              0.8888888888888888,
              "#fdca26"
             ],
             [
              1,
              "#f0f921"
             ]
            ],
            "type": "heatmapgl"
           }
          ],
          "histogram": [
           {
            "marker": {
             "pattern": {
              "fillmode": "overlay",
              "size": 10,
              "solidity": 0.2
             }
            },
            "type": "histogram"
           }
          ],
          "histogram2d": [
           {
            "colorbar": {
             "outlinewidth": 0,
             "ticks": ""
            },
            "colorscale": [
             [
              0,
              "#0d0887"
             ],
             [
              0.1111111111111111,
              "#46039f"
             ],
             [
              0.2222222222222222,
              "#7201a8"
             ],
             [
              0.3333333333333333,
              "#9c179e"
             ],
             [
              0.4444444444444444,
              "#bd3786"
             ],
             [
              0.5555555555555556,
              "#d8576b"
             ],
             [
              0.6666666666666666,
              "#ed7953"
             ],
             [
              0.7777777777777778,
              "#fb9f3a"
             ],
             [
              0.8888888888888888,
              "#fdca26"
             ],
             [
              1,
              "#f0f921"
             ]
            ],
            "type": "histogram2d"
           }
          ],
          "histogram2dcontour": [
           {
            "colorbar": {
             "outlinewidth": 0,
             "ticks": ""
            },
            "colorscale": [
             [
              0,
              "#0d0887"
             ],
             [
              0.1111111111111111,
              "#46039f"
             ],
             [
              0.2222222222222222,
              "#7201a8"
             ],
             [
              0.3333333333333333,
              "#9c179e"
             ],
             [
              0.4444444444444444,
              "#bd3786"
             ],
             [
              0.5555555555555556,
              "#d8576b"
             ],
             [
              0.6666666666666666,
              "#ed7953"
             ],
             [
              0.7777777777777778,
              "#fb9f3a"
             ],
             [
              0.8888888888888888,
              "#fdca26"
             ],
             [
              1,
              "#f0f921"
             ]
            ],
            "type": "histogram2dcontour"
           }
          ],
          "mesh3d": [
           {
            "colorbar": {
             "outlinewidth": 0,
             "ticks": ""
            },
            "type": "mesh3d"
           }
          ],
          "parcoords": [
           {
            "line": {
             "colorbar": {
              "outlinewidth": 0,
              "ticks": ""
             }
            },
            "type": "parcoords"
           }
          ],
          "pie": [
           {
            "automargin": true,
            "type": "pie"
           }
          ],
          "scatter": [
           {
            "fillpattern": {
             "fillmode": "overlay",
             "size": 10,
             "solidity": 0.2
            },
            "type": "scatter"
           }
          ],
          "scatter3d": [
           {
            "line": {
             "colorbar": {
              "outlinewidth": 0,
              "ticks": ""
             }
            },
            "marker": {
             "colorbar": {
              "outlinewidth": 0,
              "ticks": ""
             }
            },
            "type": "scatter3d"
           }
          ],
          "scattercarpet": [
           {
            "marker": {
             "colorbar": {
              "outlinewidth": 0,
              "ticks": ""
             }
            },
            "type": "scattercarpet"
           }
          ],
          "scattergeo": [
           {
            "marker": {
             "colorbar": {
              "outlinewidth": 0,
              "ticks": ""
             }
            },
            "type": "scattergeo"
           }
          ],
          "scattergl": [
           {
            "marker": {
             "colorbar": {
              "outlinewidth": 0,
              "ticks": ""
             }
            },
            "type": "scattergl"
           }
          ],
          "scattermapbox": [
           {
            "marker": {
             "colorbar": {
              "outlinewidth": 0,
              "ticks": ""
             }
            },
            "type": "scattermapbox"
           }
          ],
          "scatterpolar": [
           {
            "marker": {
             "colorbar": {
              "outlinewidth": 0,
              "ticks": ""
             }
            },
            "type": "scatterpolar"
           }
          ],
          "scatterpolargl": [
           {
            "marker": {
             "colorbar": {
              "outlinewidth": 0,
              "ticks": ""
             }
            },
            "type": "scatterpolargl"
           }
          ],
          "scatterternary": [
           {
            "marker": {
             "colorbar": {
              "outlinewidth": 0,
              "ticks": ""
             }
            },
            "type": "scatterternary"
           }
          ],
          "surface": [
           {
            "colorbar": {
             "outlinewidth": 0,
             "ticks": ""
            },
            "colorscale": [
             [
              0,
              "#0d0887"
             ],
             [
              0.1111111111111111,
              "#46039f"
             ],
             [
              0.2222222222222222,
              "#7201a8"
             ],
             [
              0.3333333333333333,
              "#9c179e"
             ],
             [
              0.4444444444444444,
              "#bd3786"
             ],
             [
              0.5555555555555556,
              "#d8576b"
             ],
             [
              0.6666666666666666,
              "#ed7953"
             ],
             [
              0.7777777777777778,
              "#fb9f3a"
             ],
             [
              0.8888888888888888,
              "#fdca26"
             ],
             [
              1,
              "#f0f921"
             ]
            ],
            "type": "surface"
           }
          ],
          "table": [
           {
            "cells": {
             "fill": {
              "color": "#EBF0F8"
             },
             "line": {
              "color": "white"
             }
            },
            "header": {
             "fill": {
              "color": "#C8D4E3"
             },
             "line": {
              "color": "white"
             }
            },
            "type": "table"
           }
          ]
         },
         "layout": {
          "annotationdefaults": {
           "arrowcolor": "#2a3f5f",
           "arrowhead": 0,
           "arrowwidth": 1
          },
          "autotypenumbers": "strict",
          "coloraxis": {
           "colorbar": {
            "outlinewidth": 0,
            "ticks": ""
           }
          },
          "colorscale": {
           "diverging": [
            [
             0,
             "#8e0152"
            ],
            [
             0.1,
             "#c51b7d"
            ],
            [
             0.2,
             "#de77ae"
            ],
            [
             0.3,
             "#f1b6da"
            ],
            [
             0.4,
             "#fde0ef"
            ],
            [
             0.5,
             "#f7f7f7"
            ],
            [
             0.6,
             "#e6f5d0"
            ],
            [
             0.7,
             "#b8e186"
            ],
            [
             0.8,
             "#7fbc41"
            ],
            [
             0.9,
             "#4d9221"
            ],
            [
             1,
             "#276419"
            ]
           ],
           "sequential": [
            [
             0,
             "#0d0887"
            ],
            [
             0.1111111111111111,
             "#46039f"
            ],
            [
             0.2222222222222222,
             "#7201a8"
            ],
            [
             0.3333333333333333,
             "#9c179e"
            ],
            [
             0.4444444444444444,
             "#bd3786"
            ],
            [
             0.5555555555555556,
             "#d8576b"
            ],
            [
             0.6666666666666666,
             "#ed7953"
            ],
            [
             0.7777777777777778,
             "#fb9f3a"
            ],
            [
             0.8888888888888888,
             "#fdca26"
            ],
            [
             1,
             "#f0f921"
            ]
           ],
           "sequentialminus": [
            [
             0,
             "#0d0887"
            ],
            [
             0.1111111111111111,
             "#46039f"
            ],
            [
             0.2222222222222222,
             "#7201a8"
            ],
            [
             0.3333333333333333,
             "#9c179e"
            ],
            [
             0.4444444444444444,
             "#bd3786"
            ],
            [
             0.5555555555555556,
             "#d8576b"
            ],
            [
             0.6666666666666666,
             "#ed7953"
            ],
            [
             0.7777777777777778,
             "#fb9f3a"
            ],
            [
             0.8888888888888888,
             "#fdca26"
            ],
            [
             1,
             "#f0f921"
            ]
           ]
          },
          "colorway": [
           "#636efa",
           "#EF553B",
           "#00cc96",
           "#ab63fa",
           "#FFA15A",
           "#19d3f3",
           "#FF6692",
           "#B6E880",
           "#FF97FF",
           "#FECB52"
          ],
          "font": {
           "color": "#2a3f5f"
          },
          "geo": {
           "bgcolor": "white",
           "lakecolor": "white",
           "landcolor": "#E5ECF6",
           "showlakes": true,
           "showland": true,
           "subunitcolor": "white"
          },
          "hoverlabel": {
           "align": "left"
          },
          "hovermode": "closest",
          "mapbox": {
           "style": "light"
          },
          "paper_bgcolor": "white",
          "plot_bgcolor": "#E5ECF6",
          "polar": {
           "angularaxis": {
            "gridcolor": "white",
            "linecolor": "white",
            "ticks": ""
           },
           "bgcolor": "#E5ECF6",
           "radialaxis": {
            "gridcolor": "white",
            "linecolor": "white",
            "ticks": ""
           }
          },
          "scene": {
           "xaxis": {
            "backgroundcolor": "#E5ECF6",
            "gridcolor": "white",
            "gridwidth": 2,
            "linecolor": "white",
            "showbackground": true,
            "ticks": "",
            "zerolinecolor": "white"
           },
           "yaxis": {
            "backgroundcolor": "#E5ECF6",
            "gridcolor": "white",
            "gridwidth": 2,
            "linecolor": "white",
            "showbackground": true,
            "ticks": "",
            "zerolinecolor": "white"
           },
           "zaxis": {
            "backgroundcolor": "#E5ECF6",
            "gridcolor": "white",
            "gridwidth": 2,
            "linecolor": "white",
            "showbackground": true,
            "ticks": "",
            "zerolinecolor": "white"
           }
          },
          "shapedefaults": {
           "line": {
            "color": "#2a3f5f"
           }
          },
          "ternary": {
           "aaxis": {
            "gridcolor": "white",
            "linecolor": "white",
            "ticks": ""
           },
           "baxis": {
            "gridcolor": "white",
            "linecolor": "white",
            "ticks": ""
           },
           "bgcolor": "#E5ECF6",
           "caxis": {
            "gridcolor": "white",
            "linecolor": "white",
            "ticks": ""
           }
          },
          "title": {
           "x": 0.05
          },
          "xaxis": {
           "automargin": true,
           "gridcolor": "white",
           "linecolor": "white",
           "ticks": "",
           "title": {
            "standoff": 15
           },
           "zerolinecolor": "white",
           "zerolinewidth": 2
          },
          "yaxis": {
           "automargin": true,
           "gridcolor": "white",
           "linecolor": "white",
           "ticks": "",
           "title": {
            "standoff": 15
           },
           "zerolinecolor": "white",
           "zerolinewidth": 2
          }
         }
        },
        "title": {
         "text": "mediapipe_data/pose_world_windowed_filtered_labeled/G101_select_left_trial1.npy"
        }
       }
      }
     },
     "metadata": {},
     "output_type": "display_data"
    }
   ],
   "source": [
    "transform = T.Compose([\n",
    "    transforms.FilterIndex(to_keep),\n",
    "    transforms.NumpyToTensor(device=device),\n",
    "    transforms.NormalizePoints(dim=1),\n",
    "    transforms.NormalRandom(std=0.1)\n",
    "])\n",
    "\n",
    "points = np.copy(data[frame, :-1])\n",
    "points = transform(points[None, ...]).reshape(-1, 3)\n",
    "\n",
    "scatters = get_skeleton_data(points)\n",
    "vis_data(scatters, file_path)"
   ]
  },
  {
   "attachments": {},
   "cell_type": "markdown",
   "metadata": {},
   "source": [
    "Animation"
   ]
  },
  {
   "cell_type": "code",
   "execution_count": 17,
   "metadata": {},
   "outputs": [],
   "source": [
    "transform = T.Compose([\n",
    "    transforms.NumpyToTensor(device=device),\n",
    "    transforms.NormalizePoints(dim=1),\n",
    "    # transforms.FilterIndex(to_keep),\n",
    "])\n",
    "\n",
    "go_frames = []\n",
    "for frame in range(len(data)):\n",
    "    points = np.copy(data[frame, :-1])\n",
    "    points = transform(points[None, ...]).reshape(-1, 3)\n",
    "\n",
    "    scatters = get_skeleton_data(points)\n",
    "    go_frame = utils_plotly.get_frame(data=scatters, frame_num=frame)\n",
    "    go_frames.append(go_frame)\n",
    "\n",
    "fig = utils_plotly.create_figure_3d(2)\n",
    "fig.update(frames=go_frames)\n",
    "fig.update_layout(\n",
    "    title=file_path,\n",
    "    scene=dict(\n",
    "        xaxis=dict(range=[-3, 3]),\n",
    "        yaxis=dict(range=[-3, 3]),\n",
    "        zaxis=dict(range=[-3, 3]),\n",
    "        aspectratio=dict(x=1, y=1, z=1),\n",
    "    ),\n",
    "    scene_camera=VISUALIZER_CONFIG.scene_camera,\n",
    "    updatemenus=[VISUALIZER_CONFIG.update_buttons],\n",
    "    uirevision=True,\n",
    ")\n",
    "fig.show(renderer='browser')"
   ]
  },
  {
   "cell_type": "code",
   "execution_count": null,
   "metadata": {},
   "outputs": [],
   "source": []
  }
 ],
 "metadata": {
  "kernelspec": {
   "display_name": "Python 3",
   "language": "python",
   "name": "python3"
  },
  "language_info": {
   "codemirror_mode": {
    "name": "ipython",
    "version": 3
   },
   "file_extension": ".py",
   "mimetype": "text/x-python",
   "name": "python",
   "nbconvert_exporter": "python",
   "pygments_lexer": "ipython3",
   "version": "3.10.6"
  },
  "orig_nbformat": 4
 },
 "nbformat": 4,
 "nbformat_minor": 2
}
